{
 "cells": [
  {
   "cell_type": "markdown",
   "id": "efdf3869-fe1d-48af-8afb-49231b2555f1",
   "metadata": {},
   "source": [
    "# 导入需要的所有库"
   ]
  },
  {
   "cell_type": "code",
   "execution_count": 24,
   "id": "d3b43e54-260e-470d-a231-511ba4b3ef16",
   "metadata": {},
   "outputs": [],
   "source": [
    "import torch as th\n",
    "from torch.autograd import Variable\n",
    "import torch.nn as nn\n",
    "import torch.nn.functional as F\n",
    "from collections import namedtuple\n",
    "import random\n",
    "from copy import deepcopy\n",
    "from torch.optim import Adam\n",
    "import numpy as np\n",
    "import gym\n",
    "from gym.spaces import Discrete, Box\n",
    "# from torch.utils.tensorboard import SummaryWriter\n",
    "import matplotlib.pyplot as plt"
   ]
  },
  {
   "cell_type": "markdown",
   "id": "5645d055-f4ef-40a0-9eea-ef359e4fa4ae",
   "metadata": {},
   "source": [
    "# 定义环境"
   ]
  },
  {
   "cell_type": "code",
   "execution_count": 25,
   "id": "e1976e5f-ba9e-4a95-a7bf-8722163457a1",
   "metadata": {},
   "outputs": [],
   "source": [
    "num_packets = 100000 # 一共生成多少个包 \n",
    "num_load_balancers = 4 #均衡器的数量\n",
    "num_servers = 8 #服务器的数量"
   ]
  },
  {
   "cell_type": "code",
   "execution_count": 26,
   "id": "dd9d88e5-842f-4177-8732-c3a12c61b54b",
   "metadata": {},
   "outputs": [],
   "source": [
    "# 代表包本身\n",
    "class Packet:\n",
    "    def __init__(self, ip, time_received, processing_time):\n",
    "        self.ip = ip\n",
    "        self.time_received = time_received # 每个包只保留被服务器接收的时间\n",
    "        self.processing_time = processing_time # 每个包的处理时间\n",
    "        self.waiting = False\n",
    "    \n",
    "    def __repr__(self):\n",
    "        return \" @time: \" + str(round(self.time_received,3))\n",
    "\n",
    "# 代表均衡器\n",
    "class LoadBalancer:\n",
    "    def __init__(self, ip):\n",
    "        self.ip = ip\n",
    "    \n",
    "    def distribute(self, server, packet):\n",
    "        return server.add_packet(packet)\n",
    "    \n",
    "    def __repr__(self):\n",
    "        return \"Load Balancer: \" + str(self.ip)\n",
    "\n",
    "# 代表服务器，假设服务器用的是FCFS，并且是non-preemptive\n",
    "class Server:\n",
    "    def __init__(self, ip, capacity):\n",
    "        self.ip = ip\n",
    "        self.capacity = capacity # 服务器队列的最大限制，最大吞入量\n",
    "        self.queue = [] # 服务器的请求队列\n",
    "        self.time_pointer = 0 # 记录相当于服务器而言的时间刻度，服务器只能处理这个时刻之后的包\n",
    "        self.processed_number = 0 # 记录当前服务器已经处理的包的数量\n",
    "        self.waiting=0\n",
    "    \n",
    "    def reset(self):\n",
    "        self.queue.clear() #清空请求队列\n",
    "        self.time_pointer = 0\n",
    "        self.processed_number = 0\n",
    "        self.waiting = 0\n",
    "        \n",
    "    def add_packet(self, packet):\n",
    "        if len(self.queue) <= self.capacity: # 如果没有超过最大吞入量，则可以继续加\n",
    "            packet.waiting = False\n",
    "            self.queue.append(packet)\n",
    "            # self.queue.sort(key=lambda x: x.time_received, reverse=False)\n",
    "            return True\n",
    "        else:\n",
    "            packet.waiting = True\n",
    "            self.queue.append(packet)\n",
    "            return False\n",
    "                \n",
    "    # 还得改\n",
    "    def process(self, current_time): # 处理当前时刻之前的所有包\n",
    "        if current_time < self.time_pointer or len(self.queue) == 0:\n",
    "            pass\n",
    "        \n",
    "        while(len(self.queue) > 0 and self.queue[0].time_received + self.queue[0].processing_time <= current_time ):\n",
    "            self.processed_number += 1\n",
    "            # if self.queue[0].time_received > self.time_pointer:\n",
    "            #     self.time_pointer = self.queue[0].time_received + self.queue[0].processing_time\n",
    "            # else:\n",
    "\n",
    "            #     self.time_pointer += self.queue[0].processing_time\n",
    "            \n",
    "            # if self.queue[0].time_received + self.queue[0].processing_time\n",
    "            if self.queue[0].waiting == True:\n",
    "                self.waiting += current_time-self.queue[0].time_received\n",
    "            self.queue.pop(0)\n",
    "            \n",
    "    def get_processed_number(self):\n",
    "        return self.processed_number\n",
    "    \n",
    "    def __repr__(self):\n",
    "        return str(self.queue)"
   ]
  },
  {
   "cell_type": "code",
   "execution_count": 27,
   "id": "a33ea7ec-207c-45e4-82e9-4b8d572d0b5e",
   "metadata": {},
   "outputs": [],
   "source": [
    "class NetworkEnv(gym.Env):\n",
    "    def __init__(self, num_packets = 0, num_servers=0, num_balancers=0, collaborative=True, server_capacity=None):\n",
    "        assert num_servers == len(server_capacity)\n",
    "        \n",
    "        self.packets = [Packet(ip=i, time_received=random.randrange(0,1), processing_time=random.gauss(0.004,0.002)) for i in range(num_packets)]\n",
    "        self.packets.sort(key=lambda x: x.time_received, reverse=False)\n",
    "        \n",
    "        self.server_capacity = server_capacity # 记录所有server的最大的吞入量\n",
    "\n",
    "        self.n = num_balancers # agents的数量，也就是均衡器的数量\n",
    "        self.shared_reward = collaborative #是否是合作模式\n",
    "        self.time = 0 # 当前的时刻\n",
    "        self.agents = [LoadBalancer(i) for i in range(num_balancers)]\n",
    "        self.servers = [Server(i, self.server_capacity[i]) for i in range(num_servers)]\n",
    "        self.waiting_packets = []\n",
    "        self.index = 0\n",
    "        \n",
    "    def step(self, action_n):\n",
    "        info = {}\n",
    "        \n",
    "        # self.time += 0.004\n",
    "        # 这一段时间内所有的packet都拿出来然后按照给对应的balancer\n",
    "        packet=[]+self.waiting_packets\n",
    "        self.waiting_packets=[]\n",
    "        mini = 10\n",
    "        for p in self.packets[self.index:]:\n",
    "            if p.time_received < self.time:\n",
    "                packet.append(p)\n",
    "                self.index += 1\n",
    "                mini = min(p.processing_time, mini)\n",
    "            else:\n",
    "                break\n",
    "\n",
    "        self.time += min(mini,0.004) #环境时间每次加处理最短的时间\n",
    "        packet.sort(key=lambda x: x.time_received, reverse=False)        \n",
    "        # 把包按照他们的ip平均分配给均衡器，再由均衡器按照他们的action跟配给对应的server\n",
    "        for p in packet:\n",
    "            lb_id = p.ip % self.n\n",
    "            self.agents[lb_id].distribute(self.servers[action_n[lb_id]], p)\n",
    "            # if bol == False:\n",
    "            #     self.waiting_packets.append(p) #没有分配成功的包进入等待 （还有个想法：给每个包一个bol，分配成功TRUE，分配失败FALSE，之后只计算等待的包的时间，现在是计算所有包的等待时间）\n",
    "                # print(len(self.waiting_packets))\n",
    "            \n",
    "        # 让每个server进行process\n",
    "        for s in self.servers:\n",
    "            s.process(self.time)\n",
    "            \n",
    "        done = (self.time >= self.packets[-1].time_received)\n",
    "        \n",
    "        temp = []\n",
    "        for s in self.servers:\n",
    "            temp.append(len(s.queue))\n",
    "            temp.append(s.time_pointer)\n",
    "            #temp.append(s.get_processed_number())\n",
    "        obs = [temp] * self.n\n",
    "        \n",
    "        reward = []\n",
    "        if done:\n",
    "            reward = [-sum([s.waiting  for s in self.servers])/len(self.servers)] * self.n\n",
    "            # reward = [len(self.waiting_packets)]* self.n\n",
    "        else:\n",
    "            reward = [0] * self.n\n",
    "        \n",
    "        \n",
    "        return obs, reward, done, info\n",
    "    \n",
    "    def reset(self):\n",
    "        self.packets = [Packet(ip=i, time_received=random.randrange(0,10), processing_time=random.gauss(0.004,0.002)) for i in range(num_packets)]\n",
    "        self.packets.sort(key=lambda x: x.time_received, reverse=False)\n",
    "        self.time = 0 # 当前的时刻\n",
    "        self.index = 0\n",
    "        # self.agents = [LoadBalancer(i) for i in range(self.n)]\n",
    "        # self.servers = [s.reset() for s in self.servers]\n",
    "        temp = []\n",
    "        for s in self.servers:\n",
    "            s.reset()\n",
    "            temp.append(len(s.queue))\n",
    "            temp.append(s.waiting)\n",
    "            # temp.append(s.get_processed_number())\n",
    "        obs = [temp] * self.n\n",
    "        return obs"
   ]
  },
  {
   "cell_type": "code",
   "execution_count": 28,
   "id": "f8898fb2-078f-47b1-96f1-2db0b249aca3",
   "metadata": {},
   "outputs": [],
   "source": [
    "env = NetworkEnv(num_packets=num_packets, num_servers=num_servers, num_balancers=num_load_balancers, collaborative=True, server_capacity=[500,100,200,200,1000,500,600,100])"
   ]
  },
  {
   "cell_type": "code",
   "execution_count": 29,
   "id": "69bd1a8b-8949-4ea8-a777-0cce3ec5106d",
   "metadata": {},
   "outputs": [
    {
     "name": "stdout",
     "output_type": "stream",
     "text": [
      "Episode: 1 Score: -125.44561124940307\n",
      "Episode: 2 Score: -129.36404574035922\n"
     ]
    },
    {
     "ename": "KeyboardInterrupt",
     "evalue": "",
     "output_type": "error",
     "traceback": [
      "\u001b[0;31m---------------------------------------------------------------------------\u001b[0m",
      "\u001b[0;31mKeyboardInterrupt\u001b[0m                         Traceback (most recent call last)",
      "\u001b[0;32m/var/folders/q_/s38l90z56cn3gf9bdm7zx9100000gn/T/ipykernel_18337/284708143.py\u001b[0m in \u001b[0;36m<module>\u001b[0;34m\u001b[0m\n\u001b[1;32m      7\u001b[0m     \u001b[0;32mwhile\u001b[0m \u001b[0;32mnot\u001b[0m \u001b[0mdone\u001b[0m\u001b[0;34m:\u001b[0m\u001b[0;34m\u001b[0m\u001b[0;34m\u001b[0m\u001b[0m\n\u001b[1;32m      8\u001b[0m         \u001b[0maction_n\u001b[0m \u001b[0;34m=\u001b[0m \u001b[0;34m[\u001b[0m\u001b[0mrandom\u001b[0m\u001b[0;34m.\u001b[0m\u001b[0mrandint\u001b[0m\u001b[0;34m(\u001b[0m\u001b[0;36m0\u001b[0m\u001b[0;34m,\u001b[0m \u001b[0mnum_servers\u001b[0m \u001b[0;34m-\u001b[0m \u001b[0;36m1\u001b[0m\u001b[0;34m)\u001b[0m \u001b[0;32mfor\u001b[0m \u001b[0mi\u001b[0m \u001b[0;32min\u001b[0m \u001b[0mrange\u001b[0m\u001b[0;34m(\u001b[0m\u001b[0menv\u001b[0m\u001b[0;34m.\u001b[0m\u001b[0mn\u001b[0m\u001b[0;34m)\u001b[0m\u001b[0;34m]\u001b[0m\u001b[0;34m\u001b[0m\u001b[0;34m\u001b[0m\u001b[0m\n\u001b[0;32m----> 9\u001b[0;31m         \u001b[0mobs\u001b[0m\u001b[0;34m,\u001b[0m \u001b[0mreward\u001b[0m\u001b[0;34m,\u001b[0m \u001b[0mdone\u001b[0m\u001b[0;34m,\u001b[0m \u001b[0minfo\u001b[0m \u001b[0;34m=\u001b[0m \u001b[0menv\u001b[0m\u001b[0;34m.\u001b[0m\u001b[0mstep\u001b[0m\u001b[0;34m(\u001b[0m\u001b[0maction_n\u001b[0m\u001b[0;34m)\u001b[0m\u001b[0;34m\u001b[0m\u001b[0;34m\u001b[0m\u001b[0m\n\u001b[0m\u001b[1;32m     10\u001b[0m         \u001b[0mscore\u001b[0m \u001b[0;34m+=\u001b[0m \u001b[0mreward\u001b[0m\u001b[0;34m[\u001b[0m\u001b[0;36m0\u001b[0m\u001b[0;34m]\u001b[0m\u001b[0;34m\u001b[0m\u001b[0;34m\u001b[0m\u001b[0m\n\u001b[1;32m     11\u001b[0m     \u001b[0mprint\u001b[0m\u001b[0;34m(\u001b[0m\u001b[0;34m'Episode: {} Score: {}'\u001b[0m\u001b[0;34m.\u001b[0m\u001b[0mformat\u001b[0m\u001b[0;34m(\u001b[0m\u001b[0me\u001b[0m\u001b[0;34m,\u001b[0m \u001b[0mscore\u001b[0m\u001b[0;34m)\u001b[0m\u001b[0;34m)\u001b[0m\u001b[0;34m\u001b[0m\u001b[0;34m\u001b[0m\u001b[0m\n",
      "\u001b[0;32m/var/folders/q_/s38l90z56cn3gf9bdm7zx9100000gn/T/ipykernel_18337/1259042776.py\u001b[0m in \u001b[0;36mstep\u001b[0;34m(self, action_n)\u001b[0m\n\u001b[1;32m     24\u001b[0m         \u001b[0mself\u001b[0m\u001b[0;34m.\u001b[0m\u001b[0mwaiting_packets\u001b[0m\u001b[0;34m=\u001b[0m\u001b[0;34m[\u001b[0m\u001b[0;34m]\u001b[0m\u001b[0;34m\u001b[0m\u001b[0;34m\u001b[0m\u001b[0m\n\u001b[1;32m     25\u001b[0m         \u001b[0mmini\u001b[0m \u001b[0;34m=\u001b[0m \u001b[0;36m10\u001b[0m\u001b[0;34m\u001b[0m\u001b[0;34m\u001b[0m\u001b[0m\n\u001b[0;32m---> 26\u001b[0;31m         \u001b[0;32mfor\u001b[0m \u001b[0mp\u001b[0m \u001b[0;32min\u001b[0m \u001b[0mself\u001b[0m\u001b[0;34m.\u001b[0m\u001b[0mpackets\u001b[0m\u001b[0;34m[\u001b[0m\u001b[0mself\u001b[0m\u001b[0;34m.\u001b[0m\u001b[0mindex\u001b[0m\u001b[0;34m:\u001b[0m\u001b[0;34m]\u001b[0m\u001b[0;34m:\u001b[0m\u001b[0;34m\u001b[0m\u001b[0;34m\u001b[0m\u001b[0m\n\u001b[0m\u001b[1;32m     27\u001b[0m             \u001b[0;32mif\u001b[0m \u001b[0mp\u001b[0m\u001b[0;34m.\u001b[0m\u001b[0mtime_received\u001b[0m \u001b[0;34m<\u001b[0m \u001b[0mself\u001b[0m\u001b[0;34m.\u001b[0m\u001b[0mtime\u001b[0m\u001b[0;34m:\u001b[0m\u001b[0;34m\u001b[0m\u001b[0;34m\u001b[0m\u001b[0m\n\u001b[1;32m     28\u001b[0m                 \u001b[0mpacket\u001b[0m\u001b[0;34m.\u001b[0m\u001b[0mappend\u001b[0m\u001b[0;34m(\u001b[0m\u001b[0mp\u001b[0m\u001b[0;34m)\u001b[0m\u001b[0;34m\u001b[0m\u001b[0;34m\u001b[0m\u001b[0m\n",
      "\u001b[0;31mKeyboardInterrupt\u001b[0m: "
     ]
    }
   ],
   "source": [
    "episodes = 10\n",
    "for e in range(1, episodes + 1):\n",
    "    state = env.reset()\n",
    "    done = False\n",
    "    score = 0 # this is the return\n",
    "    \n",
    "    while not done:\n",
    "        action_n = [random.randint(0, num_servers - 1) for i in range(env.n)]\n",
    "        obs, reward, done, info = env.step(action_n)\n",
    "        score += reward[0]\n",
    "    print('Episode: {} Score: {}'.format(e, score))"
   ]
  },
  {
   "cell_type": "markdown",
   "id": "6e564af8-c096-4dbf-9c01-cf5390d33cc3",
   "metadata": {},
   "source": [
    "# 将MADDPG加入到当前环境中"
   ]
  },
  {
   "cell_type": "code",
   "execution_count": null,
   "id": "95ca9b63-2c6a-47f7-8509-bf2c13073033",
   "metadata": {},
   "outputs": [],
   "source": [
    "Experience = namedtuple('Experience', ('states', 'actions', 'next_states', 'rewards'))\n",
    "scale_reward = 0.01"
   ]
  },
  {
   "cell_type": "code",
   "execution_count": null,
   "id": "22c5ff70-828e-40a6-98e2-07c88317c7b2",
   "metadata": {},
   "outputs": [],
   "source": [
    "class ReplayMemory:\n",
    "    def __init__(self, capacity):\n",
    "        self.capacity = capacity\n",
    "        self.memory = []\n",
    "        self.position = 0\n",
    "\n",
    "    def push(self, *args):\n",
    "        if len(self.memory) < self.capacity:\n",
    "            self.memory.append(None)\n",
    "        self.memory[self.position] = Experience(*args)\n",
    "        self.position = (self.position + 1) % self.capacity\n",
    "\n",
    "    def sample(self, batch_size):\n",
    "        return random.sample(self.memory, batch_size)\n",
    "\n",
    "    def __len__(self):\n",
    "        return len(self.memory)"
   ]
  },
  {
   "cell_type": "code",
   "execution_count": null,
   "id": "f5b582f4-eeac-4796-8b7c-cb63822a5888",
   "metadata": {},
   "outputs": [],
   "source": [
    "class Critic(nn.Module):\n",
    "    def __init__(self, n_agent, dim_observation, dim_action):\n",
    "        super(Critic, self).__init__()\n",
    "        self.n_agent = n_agent\n",
    "        self.dim_observation = dim_observation\n",
    "        self.dim_action = dim_action\n",
    "        obs_dim = self.dim_observation * n_agent\n",
    "        act_dim = self.dim_action * n_agent\n",
    "\n",
    "        self.FC1 = nn.Linear(obs_dim, 64)\n",
    "        self.FC2 = nn.Linear(64+act_dim, 64)\n",
    "        self.FC3 = nn.Linear(64, 64)\n",
    "        self.FC4 = nn.Linear(64, 1)\n",
    "\n",
    "    # obs: batch_size * obs_dim\n",
    "    def forward(self, obs, acts):\n",
    "        result = F.relu(self.FC1(obs))\n",
    "        combined = th.cat([result, acts], 1)\n",
    "        result = F.relu(self.FC2(combined))\n",
    "        return self.FC4(F.relu(self.FC3(result)))\n",
    "\n",
    "\n",
    "class Actor(nn.Module):\n",
    "    def __init__(self, dim_observation, dim_action):\n",
    "        super(Actor, self).__init__()\n",
    "        self.FC1 = nn.Linear(dim_observation, 64)\n",
    "        self.FC2 = nn.Linear(64, 64)\n",
    "        self.FC3 = nn.Linear(64, dim_action)\n",
    "\n",
    "    # action output between -2 and 2\n",
    "    def forward(self, obs):\n",
    "        result = F.relu(self.FC1(obs))\n",
    "        result = F.relu(self.FC2(result))\n",
    "        result = self.FC3(result) # 为什么不用relu呢\n",
    "        return result"
   ]
  },
  {
   "cell_type": "code",
   "execution_count": null,
   "id": "db1066e3-f3ef-4a65-8567-c9afa6a83634",
   "metadata": {},
   "outputs": [],
   "source": [
    "def sample_gumbel(shape, eps=1e-20):\n",
    "    U = th.rand(shape)\n",
    "    '''\n",
    "    if th.cuda:\n",
    "         U = U.cuda ()\n",
    "    '''\n",
    "    return -th.log(-th.log(U + eps) + eps)\n",
    "\n",
    "\n",
    "def gumbel_softmax_sample(logits, temperature):\n",
    "    y = logits + sample_gumbel(logits.size())\n",
    "    return F.softmax(y / temperature, dim=-1)\n",
    "\n",
    "\n",
    "def gumbel_softmax(logits, temperature=1.5):\n",
    "   \n",
    "    y = gumbel_softmax_sample(logits, temperature)\n",
    "\n",
    "    return y"
   ]
  },
  {
   "cell_type": "code",
   "execution_count": null,
   "id": "4f92721f-2ab3-4e1e-9d73-7e3ec40f714a",
   "metadata": {},
   "outputs": [],
   "source": [
    "def soft_update(target, source, t):\n",
    "    for target_param, source_param in zip(target.parameters(), source.parameters()):\n",
    "        target_param.data.copy_((1 - t) * target_param.data + t * source_param.data)\n",
    "    \n",
    "def hard_update(target, source):\n",
    "    for target_param, source_param in zip(target.parameters(), source.parameters()):\n",
    "        target_param.data.copy_(source_param.data)\n",
    "\n",
    "class MADDPG:\n",
    "    def __init__(self, n_agents, dim_obs, dim_act, batch_size, capacity, episodes_before_train):\n",
    "        self.actors = [Actor(dim_obs, dim_act) for i in range(n_agents)]\n",
    "        self.critics = [Critic(n_agents, dim_obs, dim_act) for i in range(n_agents)]\n",
    "        self.actors_target = deepcopy(self.actors)\n",
    "        self.critics_target = deepcopy(self.critics)\n",
    "        self.n_agents = n_agents\n",
    "        self.n_states = dim_obs\n",
    "        self.n_actions = dim_act\n",
    "        self.memory = ReplayMemory(capacity)\n",
    "        self.batch_size = batch_size\n",
    "        self.use_cuda = th.cuda.is_available()\n",
    "        self.episodes_before_train = episodes_before_train\n",
    "\n",
    "        self.GAMMA = 0.95\n",
    "        self.tau = 0.01\n",
    "\n",
    "        self.var = [1.0 for i in range(n_agents)]\n",
    "        self.critic_optimizer = [Adam(x.parameters(), lr=0.001) for x in self.critics]\n",
    "        self.actor_optimizer = [Adam(x.parameters(), lr=0.0001) for x in self.actors]\n",
    "\n",
    "        if self.use_cuda:\n",
    "            for x in self.actors:\n",
    "                x.cuda()\n",
    "            for x in self.critics:\n",
    "                x.cuda()\n",
    "            for x in self.actors_target:\n",
    "                x.cuda()\n",
    "            for x in self.critics_target:\n",
    "                x.cuda()\n",
    "\n",
    "        self.steps_done = 0\n",
    "        self.episode_done = 0\n",
    "\n",
    "    def update_policy(self):\n",
    "        # do not train until exploration is enough\n",
    "        if self.episode_done <= self.episodes_before_train:\n",
    "            return None, None\n",
    "\n",
    "        ByteTensor = th.cuda.ByteTensor if self.use_cuda else th.ByteTensor\n",
    "        FloatTensor = th.cuda.FloatTensor if self.use_cuda else th.FloatTensor\n",
    "\n",
    "        c_loss = []\n",
    "        a_loss = []\n",
    "        for agent in range(self.n_agents):\n",
    "            transitions = self.memory.sample(self.batch_size)\n",
    "            batch = Experience(*zip(*transitions))\n",
    "            non_final_mask = ByteTensor(list(map(lambda s: s is not None, batch.next_states)))\n",
    "            # state_batch: batch_size x n_agents x dim_obs\n",
    "            # state_batch = th.stack(batch.states).type(FloatTensor)\n",
    "            state_batch = th.stack(batch.states)\n",
    "            # action_batch = th.stack(batch.actions).type(FloatTensor)\n",
    "            action_batch = th.stack(batch.actions)\n",
    "            # reward_batch = th.stack(batch.rewards).type(FloatTensor)\n",
    "            reward_batch = th.stack(batch.rewards)\n",
    "            # : (batch_size_non_final) x n_agents x dim_obs\n",
    "            non_final_next_states = th.stack([s for s in batch.next_states if s is not None]).type(FloatTensor)\n",
    "\n",
    "            # for current agent\n",
    "            whole_state = state_batch.view(self.batch_size, -1)\n",
    "            whole_action = action_batch.view(self.batch_size, -1)\n",
    "            self.critic_optimizer[agent].zero_grad()\n",
    "            current_Q = self.critics[agent](whole_state, whole_action)\n",
    "\n",
    "            non_final_next_actions = [self.actors_target[i](non_final_next_states[:, i,:]) for i in range(self.n_agents)]\n",
    "            non_final_next_actions = th.stack(non_final_next_actions)\n",
    "            non_final_next_actions = (non_final_next_actions.transpose(0, 1).contiguous())\n",
    "\n",
    "            target_Q = th.zeros(self.batch_size).type(FloatTensor)\n",
    "\n",
    "            target_Q[non_final_mask] = self.critics_target[agent](non_final_next_states.view(-1, self.n_agents * self.n_states), \n",
    "                                                                  non_final_next_actions.view(-1, self.n_agents * self.n_actions)).squeeze()\n",
    "            # scale_reward: to scale reward in Q functions\n",
    "\n",
    "            target_Q = (target_Q.unsqueeze(1) * self.GAMMA) + (reward_batch[:, agent].unsqueeze(1) * scale_reward)\n",
    "\n",
    "            loss_Q = nn.MSELoss()(current_Q, target_Q.detach())\n",
    "            loss_Q.backward() #retain_graph=True\n",
    "            self.critic_optimizer[agent].step()\n",
    "\n",
    "            self.actor_optimizer[agent].zero_grad()\n",
    "            state_i = state_batch[:, agent, :]\n",
    "            action_i = self.actors[agent](state_i)\n",
    "            action_i = gumbel_softmax(action_i)\n",
    "            ac = action_batch.clone()\n",
    "            ac[:, agent, :] = action_i\n",
    "            whole_action = ac.view(self.batch_size, -1)\n",
    "            actor_loss = -self.critics[agent](whole_state, whole_action)\n",
    "            actor_loss = actor_loss.mean()\n",
    "            actor_loss.backward()\n",
    "            self.actor_optimizer[agent].step()\n",
    "            c_loss.append(loss_Q)\n",
    "            a_loss.append(actor_loss)\n",
    "\n",
    "        if self.steps_done % 100 == 0 and self.steps_done > 0:\n",
    "            for i in range(self.n_agents):\n",
    "                soft_update(self.critics_target[i], self.critics[i], self.tau)\n",
    "                soft_update(self.actors_target[i], self.actors[i], self.tau)\n",
    "\n",
    "        return c_loss, a_loss\n",
    "\n",
    "    def select_action(self, state_batch):\n",
    "        # state_batch: n_agents x state_dim\n",
    "        actions = th.zeros(self.n_agents, self.n_actions)\n",
    "        FloatTensor = th.cuda.FloatTensor if self.use_cuda else th.FloatTensor\n",
    "        for i in range(self.n_agents):\n",
    "            sb = state_batch[i, :].detach()\n",
    "            act = self.actors[i](sb.unsqueeze(0)).squeeze()\n",
    "            act = gumbel_softmax(act)\n",
    "            actions[i, :] = act\n",
    "        self.steps_done += 1\n",
    "\n",
    "        return actions.detach()"
   ]
  },
  {
   "cell_type": "code",
   "execution_count": null,
   "id": "952a5b45-b125-4244-a50d-46048f7d3b83",
   "metadata": {},
   "outputs": [
    {
     "name": "stdout",
     "output_type": "stream",
     "text": [
      "Episode: 0, reward = -139.580948\n"
     ]
    },
    {
     "data": {
      "image/png": "[encoded data removed]",
      "text/plain": [
       "<Figure size 432x288 with 1 Axes>"
      ]
     },
     "metadata": {
      "needs_background": "light"
     },
     "output_type": "display_data"
    },
    {
     "name": "stdout",
     "output_type": "stream",
     "text": [
      "Episode: 1, reward = -137.286407\n"
     ]
    },
    {
     "data": {
      "image/png": "[encoded data removed]",
      "text/plain": [
       "<Figure size 432x288 with 1 Axes>"
      ]
     },
     "metadata": {
      "needs_background": "light"
     },
     "output_type": "display_data"
    },
    {
     "name": "stdout",
     "output_type": "stream",
     "text": [
      "Episode: 2, reward = -140.795502\n"
     ]
    },
    {
     "data": {
      "image/png": "[encoded data removed]",
      "text/plain": [
       "<Figure size 432x288 with 1 Axes>"
      ]
     },
     "metadata": {
      "needs_background": "light"
     },
     "output_type": "display_data"
    },
    {
     "name": "stdout",
     "output_type": "stream",
     "text": [
      "Episode: 3, reward = -136.527267\n"
     ]
    },
    {
     "data": {
      "image/png": "[encoded data removed]",
      "text/plain": [
       "<Figure size 432x288 with 1 Axes>"
      ]
     },
     "metadata": {
      "needs_background": "light"
     },
     "output_type": "display_data"
    },
    {
     "name": "stdout",
     "output_type": "stream",
     "text": [
      "training now begins...\n",
      "MADDPG on Network Balancing\n",
      "scale_reward=0.010000\n",
      "agent=4 \n",
      "lr=0.001, 0.0001, sensor_range=0.3\n",
      "servers=8\n",
      "Episode: 4, reward = -139.976929\n"
     ]
    },
    {
     "data": {
      "image/png": "[encoded data removed]",
      "text/plain": [
       "<Figure size 432x288 with 1 Axes>"
      ]
     },
     "metadata": {
      "needs_background": "light"
     },
     "output_type": "display_data"
    },
    {
     "name": "stderr",
     "output_type": "stream",
     "text": [
      "/Users/songrui/.conda/envs/python程序/lib/python3.7/site-packages/ipykernel_launcher.py:80: UserWarning: indexing with dtype torch.uint8 is now deprecated, please use a dtype torch.bool instead. (Triggered internally at  ../aten/src/ATen/native/IndexingUtils.h:30.)\n"
     ]
    },
    {
     "name": "stdout",
     "output_type": "stream",
     "text": [
      "Episode: 5, reward = -141.544113\n"
     ]
    },
    {
     "data": {
      "image/png": "[encoded data removed]",
      "text/plain": [
       "<Figure size 432x288 with 1 Axes>"
      ]
     },
     "metadata": {
      "needs_background": "light"
     },
     "output_type": "display_data"
    },
    {
     "name": "stderr",
     "output_type": "stream",
     "text": [
      "/Users/songrui/.conda/envs/python程序/lib/python3.7/site-packages/ipykernel_launcher.py:80: UserWarning: indexing with dtype torch.uint8 is now deprecated, please use a dtype torch.bool instead. (Triggered internally at  ../aten/src/ATen/native/IndexingUtils.h:30.)\n"
     ]
    },
    {
     "ename": "KeyboardInterrupt",
     "evalue": "",
     "output_type": "error",
     "traceback": [
      "\u001b[0;31m---------------------------------------------------------------------------\u001b[0m",
      "\u001b[0;31mKeyboardInterrupt\u001b[0m                         Traceback (most recent call last)",
      "\u001b[0;32m/var/folders/q_/s38l90z56cn3gf9bdm7zx9100000gn/T/ipykernel_18337/3335259046.py\u001b[0m in \u001b[0;36m<module>\u001b[0;34m\u001b[0m\n\u001b[1;32m     51\u001b[0m         \u001b[0mobs\u001b[0m \u001b[0;34m=\u001b[0m \u001b[0mnext_obs\u001b[0m\u001b[0;34m\u001b[0m\u001b[0;34m\u001b[0m\u001b[0m\n\u001b[1;32m     52\u001b[0m \u001b[0;34m\u001b[0m\u001b[0m\n\u001b[0;32m---> 53\u001b[0;31m         \u001b[0mc_loss\u001b[0m\u001b[0;34m,\u001b[0m \u001b[0ma_loss\u001b[0m \u001b[0;34m=\u001b[0m \u001b[0mmaddpg\u001b[0m\u001b[0;34m.\u001b[0m\u001b[0mupdate_policy\u001b[0m\u001b[0;34m(\u001b[0m\u001b[0;34m)\u001b[0m\u001b[0;34m\u001b[0m\u001b[0;34m\u001b[0m\u001b[0m\n\u001b[0m\u001b[1;32m     54\u001b[0m \u001b[0;34m\u001b[0m\u001b[0m\n\u001b[1;32m     55\u001b[0m     \u001b[0mmaddpg\u001b[0m\u001b[0;34m.\u001b[0m\u001b[0mepisode_done\u001b[0m \u001b[0;34m+=\u001b[0m \u001b[0;36m1\u001b[0m\u001b[0;34m\u001b[0m\u001b[0;34m\u001b[0m\u001b[0m\n",
      "\u001b[0;32m/var/folders/q_/s38l90z56cn3gf9bdm7zx9100000gn/T/ipykernel_18337/2132098435.py\u001b[0m in \u001b[0;36mupdate_policy\u001b[0;34m(self)\u001b[0m\n\u001b[1;32m     94\u001b[0m             \u001b[0mac\u001b[0m\u001b[0;34m[\u001b[0m\u001b[0;34m:\u001b[0m\u001b[0;34m,\u001b[0m \u001b[0magent\u001b[0m\u001b[0;34m,\u001b[0m \u001b[0;34m:\u001b[0m\u001b[0;34m]\u001b[0m \u001b[0;34m=\u001b[0m \u001b[0maction_i\u001b[0m\u001b[0;34m\u001b[0m\u001b[0;34m\u001b[0m\u001b[0m\n\u001b[1;32m     95\u001b[0m             \u001b[0mwhole_action\u001b[0m \u001b[0;34m=\u001b[0m \u001b[0mac\u001b[0m\u001b[0;34m.\u001b[0m\u001b[0mview\u001b[0m\u001b[0;34m(\u001b[0m\u001b[0mself\u001b[0m\u001b[0;34m.\u001b[0m\u001b[0mbatch_size\u001b[0m\u001b[0;34m,\u001b[0m \u001b[0;34m-\u001b[0m\u001b[0;36m1\u001b[0m\u001b[0;34m)\u001b[0m\u001b[0;34m\u001b[0m\u001b[0;34m\u001b[0m\u001b[0m\n\u001b[0;32m---> 96\u001b[0;31m             \u001b[0mactor_loss\u001b[0m \u001b[0;34m=\u001b[0m \u001b[0;34m-\u001b[0m\u001b[0mself\u001b[0m\u001b[0;34m.\u001b[0m\u001b[0mcritics\u001b[0m\u001b[0;34m[\u001b[0m\u001b[0magent\u001b[0m\u001b[0;34m]\u001b[0m\u001b[0;34m(\u001b[0m\u001b[0mwhole_state\u001b[0m\u001b[0;34m,\u001b[0m \u001b[0mwhole_action\u001b[0m\u001b[0;34m)\u001b[0m\u001b[0;34m\u001b[0m\u001b[0;34m\u001b[0m\u001b[0m\n\u001b[0m\u001b[1;32m     97\u001b[0m             \u001b[0mactor_loss\u001b[0m \u001b[0;34m=\u001b[0m \u001b[0mactor_loss\u001b[0m\u001b[0;34m.\u001b[0m\u001b[0mmean\u001b[0m\u001b[0;34m(\u001b[0m\u001b[0;34m)\u001b[0m\u001b[0;34m\u001b[0m\u001b[0;34m\u001b[0m\u001b[0m\n\u001b[1;32m     98\u001b[0m             \u001b[0mactor_loss\u001b[0m\u001b[0;34m.\u001b[0m\u001b[0mbackward\u001b[0m\u001b[0;34m(\u001b[0m\u001b[0;34m)\u001b[0m\u001b[0;34m\u001b[0m\u001b[0;34m\u001b[0m\u001b[0m\n",
      "\u001b[0;32m~/.conda/envs/python程序/lib/python3.7/site-packages/torch/nn/modules/module.py\u001b[0m in \u001b[0;36m_call_impl\u001b[0;34m(self, *input, **kwargs)\u001b[0m\n\u001b[1;32m   1100\u001b[0m         if not (self._backward_hooks or self._forward_hooks or self._forward_pre_hooks or _global_backward_hooks\n\u001b[1;32m   1101\u001b[0m                 or _global_forward_hooks or _global_forward_pre_hooks):\n\u001b[0;32m-> 1102\u001b[0;31m             \u001b[0;32mreturn\u001b[0m \u001b[0mforward_call\u001b[0m\u001b[0;34m(\u001b[0m\u001b[0;34m*\u001b[0m\u001b[0minput\u001b[0m\u001b[0;34m,\u001b[0m \u001b[0;34m**\u001b[0m\u001b[0mkwargs\u001b[0m\u001b[0;34m)\u001b[0m\u001b[0;34m\u001b[0m\u001b[0;34m\u001b[0m\u001b[0m\n\u001b[0m\u001b[1;32m   1103\u001b[0m         \u001b[0;31m# Do not call functions when jit is used\u001b[0m\u001b[0;34m\u001b[0m\u001b[0;34m\u001b[0m\u001b[0;34m\u001b[0m\u001b[0m\n\u001b[1;32m   1104\u001b[0m         \u001b[0mfull_backward_hooks\u001b[0m\u001b[0;34m,\u001b[0m \u001b[0mnon_full_backward_hooks\u001b[0m \u001b[0;34m=\u001b[0m \u001b[0;34m[\u001b[0m\u001b[0;34m]\u001b[0m\u001b[0;34m,\u001b[0m \u001b[0;34m[\u001b[0m\u001b[0;34m]\u001b[0m\u001b[0;34m\u001b[0m\u001b[0;34m\u001b[0m\u001b[0m\n",
      "\u001b[0;32m/var/folders/q_/s38l90z56cn3gf9bdm7zx9100000gn/T/ipykernel_18337/857368887.py\u001b[0m in \u001b[0;36mforward\u001b[0;34m(self, obs, acts)\u001b[0m\n\u001b[1;32m     15\u001b[0m     \u001b[0;31m# obs: batch_size * obs_dim\u001b[0m\u001b[0;34m\u001b[0m\u001b[0;34m\u001b[0m\u001b[0;34m\u001b[0m\u001b[0m\n\u001b[1;32m     16\u001b[0m     \u001b[0;32mdef\u001b[0m \u001b[0mforward\u001b[0m\u001b[0;34m(\u001b[0m\u001b[0mself\u001b[0m\u001b[0;34m,\u001b[0m \u001b[0mobs\u001b[0m\u001b[0;34m,\u001b[0m \u001b[0macts\u001b[0m\u001b[0;34m)\u001b[0m\u001b[0;34m:\u001b[0m\u001b[0;34m\u001b[0m\u001b[0;34m\u001b[0m\u001b[0m\n\u001b[0;32m---> 17\u001b[0;31m         \u001b[0mresult\u001b[0m \u001b[0;34m=\u001b[0m \u001b[0mF\u001b[0m\u001b[0;34m.\u001b[0m\u001b[0mrelu\u001b[0m\u001b[0;34m(\u001b[0m\u001b[0mself\u001b[0m\u001b[0;34m.\u001b[0m\u001b[0mFC1\u001b[0m\u001b[0;34m(\u001b[0m\u001b[0mobs\u001b[0m\u001b[0;34m)\u001b[0m\u001b[0;34m)\u001b[0m\u001b[0;34m\u001b[0m\u001b[0;34m\u001b[0m\u001b[0m\n\u001b[0m\u001b[1;32m     18\u001b[0m         \u001b[0mcombined\u001b[0m \u001b[0;34m=\u001b[0m \u001b[0mth\u001b[0m\u001b[0;34m.\u001b[0m\u001b[0mcat\u001b[0m\u001b[0;34m(\u001b[0m\u001b[0;34m[\u001b[0m\u001b[0mresult\u001b[0m\u001b[0;34m,\u001b[0m \u001b[0macts\u001b[0m\u001b[0;34m]\u001b[0m\u001b[0;34m,\u001b[0m \u001b[0;36m1\u001b[0m\u001b[0;34m)\u001b[0m\u001b[0;34m\u001b[0m\u001b[0;34m\u001b[0m\u001b[0m\n\u001b[1;32m     19\u001b[0m         \u001b[0mresult\u001b[0m \u001b[0;34m=\u001b[0m \u001b[0mF\u001b[0m\u001b[0;34m.\u001b[0m\u001b[0mrelu\u001b[0m\u001b[0;34m(\u001b[0m\u001b[0mself\u001b[0m\u001b[0;34m.\u001b[0m\u001b[0mFC2\u001b[0m\u001b[0;34m(\u001b[0m\u001b[0mcombined\u001b[0m\u001b[0;34m)\u001b[0m\u001b[0;34m)\u001b[0m\u001b[0;34m\u001b[0m\u001b[0;34m\u001b[0m\u001b[0m\n",
      "\u001b[0;32m~/.conda/envs/python程序/lib/python3.7/site-packages/torch/nn/modules/module.py\u001b[0m in \u001b[0;36m_call_impl\u001b[0;34m(self, *input, **kwargs)\u001b[0m\n\u001b[1;32m   1100\u001b[0m         if not (self._backward_hooks or self._forward_hooks or self._forward_pre_hooks or _global_backward_hooks\n\u001b[1;32m   1101\u001b[0m                 or _global_forward_hooks or _global_forward_pre_hooks):\n\u001b[0;32m-> 1102\u001b[0;31m             \u001b[0;32mreturn\u001b[0m \u001b[0mforward_call\u001b[0m\u001b[0;34m(\u001b[0m\u001b[0;34m*\u001b[0m\u001b[0minput\u001b[0m\u001b[0;34m,\u001b[0m \u001b[0;34m**\u001b[0m\u001b[0mkwargs\u001b[0m\u001b[0;34m)\u001b[0m\u001b[0;34m\u001b[0m\u001b[0;34m\u001b[0m\u001b[0m\n\u001b[0m\u001b[1;32m   1103\u001b[0m         \u001b[0;31m# Do not call functions when jit is used\u001b[0m\u001b[0;34m\u001b[0m\u001b[0;34m\u001b[0m\u001b[0;34m\u001b[0m\u001b[0m\n\u001b[1;32m   1104\u001b[0m         \u001b[0mfull_backward_hooks\u001b[0m\u001b[0;34m,\u001b[0m \u001b[0mnon_full_backward_hooks\u001b[0m \u001b[0;34m=\u001b[0m \u001b[0;34m[\u001b[0m\u001b[0;34m]\u001b[0m\u001b[0;34m,\u001b[0m \u001b[0;34m[\u001b[0m\u001b[0;34m]\u001b[0m\u001b[0;34m\u001b[0m\u001b[0;34m\u001b[0m\u001b[0m\n",
      "\u001b[0;32m~/.conda/envs/python程序/lib/python3.7/site-packages/torch/nn/modules/linear.py\u001b[0m in \u001b[0;36mforward\u001b[0;34m(self, input)\u001b[0m\n\u001b[1;32m    101\u001b[0m \u001b[0;34m\u001b[0m\u001b[0m\n\u001b[1;32m    102\u001b[0m     \u001b[0;32mdef\u001b[0m \u001b[0mforward\u001b[0m\u001b[0;34m(\u001b[0m\u001b[0mself\u001b[0m\u001b[0;34m,\u001b[0m \u001b[0minput\u001b[0m\u001b[0;34m:\u001b[0m \u001b[0mTensor\u001b[0m\u001b[0;34m)\u001b[0m \u001b[0;34m->\u001b[0m \u001b[0mTensor\u001b[0m\u001b[0;34m:\u001b[0m\u001b[0;34m\u001b[0m\u001b[0;34m\u001b[0m\u001b[0m\n\u001b[0;32m--> 103\u001b[0;31m         \u001b[0;32mreturn\u001b[0m \u001b[0mF\u001b[0m\u001b[0;34m.\u001b[0m\u001b[0mlinear\u001b[0m\u001b[0;34m(\u001b[0m\u001b[0minput\u001b[0m\u001b[0;34m,\u001b[0m \u001b[0mself\u001b[0m\u001b[0;34m.\u001b[0m\u001b[0mweight\u001b[0m\u001b[0;34m,\u001b[0m \u001b[0mself\u001b[0m\u001b[0;34m.\u001b[0m\u001b[0mbias\u001b[0m\u001b[0;34m)\u001b[0m\u001b[0;34m\u001b[0m\u001b[0;34m\u001b[0m\u001b[0m\n\u001b[0m\u001b[1;32m    104\u001b[0m \u001b[0;34m\u001b[0m\u001b[0m\n\u001b[1;32m    105\u001b[0m     \u001b[0;32mdef\u001b[0m \u001b[0mextra_repr\u001b[0m\u001b[0;34m(\u001b[0m\u001b[0mself\u001b[0m\u001b[0;34m)\u001b[0m \u001b[0;34m->\u001b[0m \u001b[0mstr\u001b[0m\u001b[0;34m:\u001b[0m\u001b[0;34m\u001b[0m\u001b[0;34m\u001b[0m\u001b[0m\n",
      "\u001b[0;32m~/.conda/envs/python程序/lib/python3.7/site-packages/torch/nn/functional.py\u001b[0m in \u001b[0;36mlinear\u001b[0;34m(input, weight, bias)\u001b[0m\n\u001b[1;32m   1846\u001b[0m     \u001b[0;32mif\u001b[0m \u001b[0mhas_torch_function_variadic\u001b[0m\u001b[0;34m(\u001b[0m\u001b[0minput\u001b[0m\u001b[0;34m,\u001b[0m \u001b[0mweight\u001b[0m\u001b[0;34m,\u001b[0m \u001b[0mbias\u001b[0m\u001b[0;34m)\u001b[0m\u001b[0;34m:\u001b[0m\u001b[0;34m\u001b[0m\u001b[0;34m\u001b[0m\u001b[0m\n\u001b[1;32m   1847\u001b[0m         \u001b[0;32mreturn\u001b[0m \u001b[0mhandle_torch_function\u001b[0m\u001b[0;34m(\u001b[0m\u001b[0mlinear\u001b[0m\u001b[0;34m,\u001b[0m \u001b[0;34m(\u001b[0m\u001b[0minput\u001b[0m\u001b[0;34m,\u001b[0m \u001b[0mweight\u001b[0m\u001b[0;34m,\u001b[0m \u001b[0mbias\u001b[0m\u001b[0;34m)\u001b[0m\u001b[0;34m,\u001b[0m \u001b[0minput\u001b[0m\u001b[0;34m,\u001b[0m \u001b[0mweight\u001b[0m\u001b[0;34m,\u001b[0m \u001b[0mbias\u001b[0m\u001b[0;34m=\u001b[0m\u001b[0mbias\u001b[0m\u001b[0;34m)\u001b[0m\u001b[0;34m\u001b[0m\u001b[0;34m\u001b[0m\u001b[0m\n\u001b[0;32m-> 1848\u001b[0;31m     \u001b[0;32mreturn\u001b[0m \u001b[0mtorch\u001b[0m\u001b[0;34m.\u001b[0m\u001b[0m_C\u001b[0m\u001b[0;34m.\u001b[0m\u001b[0m_nn\u001b[0m\u001b[0;34m.\u001b[0m\u001b[0mlinear\u001b[0m\u001b[0;34m(\u001b[0m\u001b[0minput\u001b[0m\u001b[0;34m,\u001b[0m \u001b[0mweight\u001b[0m\u001b[0;34m,\u001b[0m \u001b[0mbias\u001b[0m\u001b[0;34m)\u001b[0m\u001b[0;34m\u001b[0m\u001b[0;34m\u001b[0m\u001b[0m\n\u001b[0m\u001b[1;32m   1849\u001b[0m \u001b[0;34m\u001b[0m\u001b[0m\n\u001b[1;32m   1850\u001b[0m \u001b[0;34m\u001b[0m\u001b[0m\n",
      "\u001b[0;31mKeyboardInterrupt\u001b[0m: "
     ]
    }
   ],
   "source": [
    "reward_record = []\n",
    "\n",
    "np.random.seed(1234)\n",
    "th.manual_seed(1234)\n",
    "n_agents = num_load_balancers\n",
    "n_states = 16\n",
    "n_actions = num_servers\n",
    "capacity = 1000000\n",
    "batch_size = 64\n",
    "\n",
    "n_episode = 20000\n",
    "max_steps = 100\n",
    "episodes_before_train = 4\n",
    "\n",
    "win = None\n",
    "param = None\n",
    "# model_save_name = 'classifier_modified_env1.pt'\n",
    "PATH = F\"result/classifier_modified_env1.p\" \n",
    "\n",
    "maddpg = MADDPG(n_agents, n_states, n_actions, batch_size, capacity, episodes_before_train)\n",
    "\n",
    "FloatTensor = th.cuda.FloatTensor if maddpg.use_cuda else th.FloatTensor\n",
    "for i_episode in range(n_episode):\n",
    "    obs = env.reset()\n",
    "    obs = np.stack(obs)\n",
    "    if isinstance(obs, np.ndarray):\n",
    "        obs = th.from_numpy(obs).float()\n",
    "    total_reward = 0.0\n",
    "    rr = np.zeros((n_agents,))\n",
    "\n",
    "    done = False\n",
    "    while not done:\n",
    "        obs = obs.type(FloatTensor)\n",
    "        action = maddpg.select_action(obs) # .data.cpu()\n",
    "        aa = action.tolist()\n",
    "        a = []\n",
    "        for i in aa:\n",
    "            a.append(i.index(max(i)))\n",
    "            # print(a)\n",
    "        obs_, reward, done, _ = env.step(a)\n",
    "        \n",
    "        reward = th.FloatTensor(reward).type(FloatTensor)\n",
    "        obs_ = np.stack(obs_)\n",
    "        obs_ = th.from_numpy(obs_).float()\n",
    "        next_obs = obs_\n",
    "        \n",
    "        # total_reward += reward.sum()\n",
    "        total_reward += reward[0]\n",
    "        rr += reward.cpu().numpy()\n",
    "        maddpg.memory.push(obs.data, action, next_obs, reward)\n",
    "        obs = next_obs\n",
    "\n",
    "        c_loss, a_loss = maddpg.update_policy()\n",
    "\n",
    "    maddpg.episode_done += 1\n",
    "    print('Episode: %d, reward = %f' % (i_episode, total_reward))\n",
    "    reward_record.append(total_reward)\n",
    "    \n",
    "    plt.plot(np.arange(i_episode + 1), reward_record)\n",
    "    plt.show()\n",
    "\n",
    "    if maddpg.episode_done == maddpg.episodes_before_train:\n",
    "        print('training now begins...')\n",
    "        print('MADDPG on Network Balancing\\n' +\n",
    "              'scale_reward=%f\\n' % scale_reward +\n",
    "              'agent=%d' % n_agents +\n",
    "              ' \\nlr=0.001, 0.0001, sensor_range=0.3\\n' +\n",
    "              'servers=%d' % (num_servers))\n",
    "\n",
    "    if i_episode % 10 == 9:\n",
    "        th.save({\n",
    "            'epoch': i_episode,\n",
    "            'acotr_state_dict': [[maddpg.actors[i].state_dict()] for i in range(len(maddpg.actors))],\n",
    "            'critic_state_dict': [[maddpg.critics[i].state_dict()] for i in range(len(maddpg.critics))],\n",
    "            'acotr_target_state_dict': [[maddpg.actors_target[i].state_dict()] for i in range(len(maddpg.actors))],\n",
    "            'critic_target_state_dict': [[maddpg.critics_target[i].state_dict()] for i in range(len(maddpg.critics))],\n",
    "            'actor_optimizer_state_dict': [[maddpg.actor_optimizer[i].state_dict()] for i in range(len(maddpg.actor_optimizer))],\n",
    "            'critic_optimizer_state_dict': [[maddpg.critic_optimizer[i].state_dict()] for i in range(len(maddpg.critic_optimizer))],\n",
    "            }, PATH)\n",
    "# env.close()"
   ]
  },
  {
   "cell_type": "code",
   "execution_count": null,
   "id": "4f654e4a-3eb5-4be0-a77d-7eb833421185",
   "metadata": {},
   "outputs": [],
   "source": []
  }
 ],
 "metadata": {
  "kernelspec": {
   "display_name": "Python 3",
   "language": "python",
   "name": "python3"
  },
  "language_info": {
   "codemirror_mode": {
    "name": "ipython",
    "version": 3
   },
   "file_extension": ".py",
   "mimetype": "text/x-python",
   "name": "python",
   "nbconvert_exporter": "python",
   "pygments_lexer": "ipython3",
   "version": "3.7.7"
  }
 },
 "nbformat": 4,
 "nbformat_minor": 5
}
